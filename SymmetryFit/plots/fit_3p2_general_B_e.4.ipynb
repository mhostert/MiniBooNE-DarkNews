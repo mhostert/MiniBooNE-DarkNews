{
 "cells": [
  {
   "cell_type": "code",
   "execution_count": 1,
   "id": "7db6bab7-6116-46d9-928a-67d05ec8262f",
   "metadata": {},
   "outputs": [],
   "source": [
    "%load_ext autoreload\n",
    "%autoreload 2"
   ]
  },
  {
   "cell_type": "code",
   "execution_count": 2,
   "id": "d67c3a30-58e2-4fbe-9e37-90d72098a108",
   "metadata": {},
   "outputs": [],
   "source": [
    "import matplotlib.pyplot as plt\n",
    "import numpy as np\n",
    "import pandas as pd\n",
    "from multiprocessing import *\n",
    "import os\n",
    "from matplotlib.ticker import StrMethodFormatter\n",
    "import scipy\n",
    "from pathos.multiprocessing import ProcessingPool as Pool\n",
    "\n",
    "import sys\n",
    "from IPython.display import clear_output\n",
    "\n",
    "import DarkNews\n",
    "from DarkNews import const \n",
    "from analysis_dn import fit_functions as ff\n",
    "from analysis_dn import hist_plot\n",
    "from DarkNews.GenLauncher import GenLauncher\n",
    "from analysis_dn import analysis as a\n",
    "from analysis_dn import analysis_decay as a_d\n",
    "from analysis_dn import decayer"
   ]
  },
  {
   "cell_type": "markdown",
   "id": "864d20b5-e596-4871-9172-0d4bfbd91b7b",
   "metadata": {},
   "source": [
    "# 1. Set general parameters for fitting"
   ]
  },
  {
   "cell_type": "markdown",
   "id": "adee06d8-b0b9-45a7-ba95-d6ba8ef9747a",
   "metadata": {},
   "source": [
    "### Path and Grid"
   ]
  },
  {
   "cell_type": "code",
   "execution_count": 3,
   "id": "1e7290df-9345-426d-a45f-502292bfc8f2",
   "metadata": {},
   "outputs": [],
   "source": [
    "epsilon = 1e-4\n",
    "epsilon_s = '1e-4'\n",
    "\n",
    "# PATH\n",
    "path = f'results/3p2_general_m4_0.05_e_{epsilon_s}/'\n",
    "path_data = path+'chi2_fit_3p2.dat'\n",
    "\n",
    "# Number of processors\n",
    "workers = 8\n",
    "\n",
    "# Grid parameters\n",
    "points = 30\n",
    "m4 = 0.05\n",
    "mzprime = np.geomspace(0.01, 2.0, points)\n",
    "m5 = np.geomspace(0.055, 2.0, points)\n",
    "m5=ff.round_sig(m5,4)\n",
    "mzprime=ff.round_sig(mzprime,4)"
   ]
  },
  {
   "cell_type": "markdown",
   "id": "97415e41-8721-4f10-9cda-cdceccaf9fde",
   "metadata": {},
   "source": [
    "### Parameters for simulation"
   ]
  },
  {
   "cell_type": "code",
   "execution_count": 4,
   "id": "a30500e2-69d6-4f2d-8a43-efca0444e146",
   "metadata": {},
   "outputs": [],
   "source": [
    "ud4_def = 1.0/np.sqrt(2.)\n",
    "ud5_def = 1.0/np.sqrt(2.)\n",
    "gD_def = 2.\n",
    "umu4_def = np.sqrt(1.0e-12)\n",
    "umu5_def = np.sqrt(1.0e-12)\n",
    "epsilon_def = 1e-4\n",
    "\n",
    "v54 = gD_def * ud5_def * ud4_def\n",
    "vmu5_def = gD_def * ud5_def * (umu4_def*ud4_def + umu5_def*ud5_def) / np.sqrt(1 - umu4_def**2 - umu5_def**2)\n",
    "\n",
    "\n",
    "def vmu5_f(umu4,umu5):\n",
    "    return gD_def * ud5_def * (umu4*ud4_def + umu5*ud5_def) / np.sqrt(1 - umu4**2 - umu5**2)\n",
    "\n",
    "r_eps = epsilon / epsilon_def\n",
    "\n",
    "\n",
    "vmui_max = 1e-3\n",
    "v_cut = vmu5_f(vmui_max,vmui_max)"
   ]
  },
  {
   "cell_type": "markdown",
   "id": "58d08eac-4b70-4a7b-96fe-36d3f4514a7e",
   "metadata": {},
   "source": [
    "### Data from MiniBooNE"
   ]
  },
  {
   "cell_type": "code",
   "execution_count": 5,
   "id": "19ae5534-95fa-4cbb-aeda-27ea8cbf7916",
   "metadata": {},
   "outputs": [],
   "source": [
    "data_MB_enu = hist_plot.get_data_MB(varplot='reco_Enu',loc='../')\n",
    "back_MC_enu = data_MB_enu[1]\n",
    "D_enu = data_MB_enu[0] + data_MB_enu[1]\n",
    "sys_enu = [data_MB_enu[2], data_MB_enu[3]]"
   ]
  },
  {
   "cell_type": "markdown",
   "id": "004d3ceb-4dad-46bb-9ad7-e72cf67c2e40",
   "metadata": {},
   "source": [
    "### Data for distributions"
   ]
  },
  {
   "cell_type": "code",
   "execution_count": 6,
   "id": "be259e06-42e7-46c7-b5e1-7000c32c86c7",
   "metadata": {},
   "outputs": [],
   "source": [
    "cols=['mzprime','m5','m4','delta','sum_w_post_smearing','v_mu5','v_54','epsilon','u_mu5/u_mu4','chi2','decay_length','N_events','scatt_det']\n",
    "bin_e = np.array([0.2, 0.3, 0.375, 0.475, 0.55, 0.675, 0.8, 0.95, 1.1, 1.3, 1.5, 3.])"
   ]
  },
  {
   "cell_type": "markdown",
   "id": "62d89028-6993-4c36-990a-9725148de6bb",
   "metadata": {},
   "source": [
    "# 2. Plot the results"
   ]
  },
  {
   "cell_type": "markdown",
   "id": "fc3b0218-6dd7-45a9-9e1a-f0dae4843c67",
   "metadata": {},
   "source": [
    "### Load the plotting libraries"
   ]
  },
  {
   "cell_type": "code",
   "execution_count": 7,
   "id": "cf29164e-2bd6-4682-901f-c850be0bbdd9",
   "metadata": {},
   "outputs": [],
   "source": [
    "import matplotlib.patches as mpatches\n",
    "from matplotlib import cm\n",
    "from matplotlib import ticker"
   ]
  },
  {
   "cell_type": "code",
   "execution_count": 9,
   "id": "ab0cb5f9-212b-4e68-af4e-9fc28489a479",
   "metadata": {},
   "outputs": [
    {
     "data": {
      "image/png": "[encoded data removed]",
      "text/plain": [
       "<Figure size 432x288 with 1 Axes>"
      ]
     },
     "metadata": {
      "needs_background": "light"
     },
     "output_type": "display_data"
    },
    {
     "data": {
      "text/plain": [
       "<Figure size 432x288 with 0 Axes>"
      ]
     },
     "metadata": {},
     "output_type": "display_data"
    }
   ],
   "source": [
    "# general features\n",
    "save = True\n",
    "extension = 'jpg'\n",
    "leg_loc = 'upper left'\n",
    "\n",
    "# data names and titles\n",
    "path_data = path+'chi2_fit_3p2.dat'\n",
    "plot_path = path +f'plots/fit_3p2_general_m4_{m4}_e_e-4.' + extension\n",
    "data = pd.read_csv(path_data,sep='\\t')\n",
    "\n",
    "data = data[data.chi2 >= 0]\n",
    "\n",
    "plot_title = r'Best-fit regions for MiniBooNE $E_\\nu^{\\mathrm{CCQE}}$'\n",
    "ylabel = r'$m_5 \\ / $ GeV'\n",
    "xlabel = r'$m_{Z \\prime} \\ / $ GeV'\n",
    "    \n",
    "# load data for each parameter\n",
    "Y = data['m5'].values\n",
    "X = data['mzprime'].values\n",
    "\n",
    "# line divisions for other possible channels\n",
    "Y_1 = np.ones(len(Y))\n",
    "Y_2 = 2 * Y_1\n",
    "X_0 = np.linspace(X.min(),X.max(),500)\n",
    "Y_1 = np.ones(len(X_0))\n",
    "Y_2 = 2 * Y_1\n",
    "\n",
    "# What to plot\n",
    "Z = data['chi2'].values\n",
    "Z -= Z.min()\n",
    "dec = data['decay_length'].values / data['m5'].values\n",
    "\n",
    "# Minimum\n",
    "marker = '*'\n",
    "mask = Z == Z.min()\n",
    "xmin_enu, ymin_enu = X[mask][0],Y[mask][0]\n",
    "\n",
    "# Colors\n",
    "num_colors = 12\n",
    "viridis = cm.get_cmap('viridis', num_colors)\n",
    "bar_1 = mpatches.Patch(color=viridis(range(num_colors))[1], label=r'1 $\\sigma$')\n",
    "bar_2 = mpatches.Patch(color=viridis(range(num_colors))[4], label=r'2 $\\sigma$')\n",
    "bar_3 = mpatches.Patch(color=viridis(range(num_colors))[8], label=r'3 $\\sigma$')\n",
    "bar_4 = mpatches.Patch(color=\"gray\", label=r'$c \\tau_0 / m_5 = 1 \\mathrm{cm / GeV}$')\n",
    "\n",
    "# Plot\n",
    "plt.rcParams[\"figure.figsize\"] = (6,4)\n",
    "levels = [0,2.3,6.18,11.83]\n",
    "level_dif = [1.25]\n",
    "plt.tricontourf(X,Y,Z,levels=levels,cmap='viridis')\n",
    "plt.tricontour(X,Y,Z,levels=levels,colors='black',linewidths=0.5)\n",
    "\n",
    "# Plot ctau = 1 cm/GeV\n",
    "cs = plt.tricontour(X,Y,dec,levels=[3.],colors='black',linewidths=1.5,linestyles='dashed')\n",
    "a = cs.collections[0].get_paths()[0]\n",
    "xline, yline = a.vertices.T\n",
    "plt.fill_between(xline,0.8*yline,yline,color=\"black\",alpha=0.5)\n",
    "\n",
    "# Regime channels\n",
    "#plt.text(0.6,1.1,r'$N_5 \\rightarrow N_4 N_4 \\nu_i$',color='black',size=11)\n",
    "#plt.text(0.6,2.2,r'$N_5 \\rightarrow N_4 N_4 N_4$',color='black',size=11)\n",
    "\n",
    "# Plot minimum and regimes\n",
    "plt.plot(xmin_enu,ymin_enu,color='orange',marker=marker,markersize=12)\n",
    "#plt.plot(X_0,Y_1,color=\"gray\",linewidth=1,linestyle=\"dotted\")\n",
    "#plt.plot(X_0,Y_2,color=\"gray\",linewidth=1,linestyle=\"dotted\")\n",
    "#plt.fill_between(X_0,1,2,color=\"gray\",alpha=0.2)\n",
    "#plt.fill_between(X_0,2,Y.max(),color=\"gray\",alpha=0.4)\n",
    "plt.text(0.26,1.55,r'$--c \\tau_0 / m_5 = 3 \\mathrm{cm / GeV}$',color='black',size=12)\n",
    "\n",
    "\n",
    "plt.legend(handles=[bar_1, bar_2, bar_3],fontsize=10,loc=leg_loc)\n",
    "plt.title(plot_title,fontsize=15)\n",
    "plt.xlabel(xlabel,fontsize=15)\n",
    "plt.ylabel(ylabel,fontsize=15)\n",
    "plt.xscale('log')\n",
    "plt.yscale('log')\n",
    "plt.xlim(X.min(),X.max())\n",
    "plt.ylim(Y.min(),Y.max())\n",
    "if save:\n",
    "    plt.savefig(plot_path,dpi=400)\n",
    "    plt.show()\n",
    "else:\n",
    "    plt.show()\n",
    "plt.clf()"
   ]
  },
  {
   "cell_type": "code",
   "execution_count": 9,
   "id": "6ebce925-a14f-4213-a0cd-b997f87942b4",
   "metadata": {},
   "outputs": [
    {
     "data": {
      "text/plain": [
       "2.25625e-07"
      ]
     },
     "execution_count": 9,
     "metadata": {},
     "output_type": "execute_result"
    }
   ],
   "source": [
    "0.000475**2"
   ]
  },
  {
   "cell_type": "code",
   "execution_count": 8,
   "id": "25ca8e0e-73e0-4394-ba48-288247829ce3",
   "metadata": {},
   "outputs": [
    {
     "data": {
      "text/html": [
       "<div>\n",
       "<style scoped>\n",
       "    .dataframe tbody tr th:only-of-type {\n",
       "        vertical-align: middle;\n",
       "    }\n",
       "\n",
       "    .dataframe tbody tr th {\n",
       "        vertical-align: top;\n",
       "    }\n",
       "\n",
       "    .dataframe thead th {\n",
       "        text-align: right;\n",
       "    }\n",
       "</style>\n",
       "<table border=\"1\" class=\"dataframe\">\n",
       "  <thead>\n",
       "    <tr style=\"text-align: right;\">\n",
       "      <th></th>\n",
       "      <th>mzprime</th>\n",
       "      <th>m5</th>\n",
       "      <th>m4</th>\n",
       "      <th>delta</th>\n",
       "      <th>sum_w_post_smearing</th>\n",
       "      <th>v_mu5</th>\n",
       "      <th>v_54</th>\n",
       "      <th>epsilon</th>\n",
       "      <th>u_mu5/u_mu4</th>\n",
       "      <th>chi2</th>\n",
       "      <th>decay_length</th>\n",
       "      <th>N_events</th>\n",
       "    </tr>\n",
       "  </thead>\n",
       "  <tbody>\n",
       "    <tr>\n",
       "      <th>42</th>\n",
       "      <td>0.029928</td>\n",
       "      <td>0.070468</td>\n",
       "      <td>0.05</td>\n",
       "      <td>0.40937</td>\n",
       "      <td>0.00978</td>\n",
       "      <td>0.000475</td>\n",
       "      <td>1.0</td>\n",
       "      <td>0.0001</td>\n",
       "      <td>0.000238</td>\n",
       "      <td>6.187922</td>\n",
       "      <td>8.298403</td>\n",
       "      <td>552.614645</td>\n",
       "    </tr>\n",
       "  </tbody>\n",
       "</table>\n",
       "</div>"
      ],
      "text/plain": [
       "     mzprime        m5    m4    delta  sum_w_post_smearing     v_mu5  v_54  \\\n",
       "42  0.029928  0.070468  0.05  0.40937              0.00978  0.000475   1.0   \n",
       "\n",
       "    epsilon  u_mu5/u_mu4      chi2  decay_length    N_events  \n",
       "42   0.0001     0.000238  6.187922      8.298403  552.614645  "
      ]
     },
     "execution_count": 8,
     "metadata": {},
     "output_type": "execute_result"
    }
   ],
   "source": [
    "path_data = path+'chi2_fit_3p2.dat'\n",
    "data = pd.read_csv(path_data,sep='\\t')\n",
    "data = data[data.chi2 >= 0]\n",
    "data[data.chi2 == data.chi2.min()]"
   ]
  },
  {
   "cell_type": "markdown",
   "id": "df915485-ccf3-4ccb-abe8-9f37b12d6da5",
   "metadata": {},
   "source": [
    "## Minimum"
   ]
  },
  {
   "cell_type": "code",
   "execution_count": 10,
   "id": "c57f1faf-5fa7-4cba-902d-08a9d3336b75",
   "metadata": {},
   "outputs": [
    {
     "name": "stdout",
     "output_type": "stream",
     "text": [
      "0.0299278260897084 0.0704684822080478\n"
     ]
    }
   ],
   "source": [
    "print(xmin_enu,ymin_enu)"
   ]
  },
  {
   "cell_type": "code",
   "execution_count": 11,
   "id": "5f3031b6-a491-4968-8cc0-c2fa78f42c55",
   "metadata": {},
   "outputs": [],
   "source": [
    "from matplotlib import ticker\n",
    "from matplotlib.ticker import StrMethodFormatter"
   ]
  },
  {
   "cell_type": "code",
   "execution_count": 13,
   "id": "a3b904c8-96d1-4196-acfe-bd69f7367130",
   "metadata": {},
   "outputs": [
    {
     "data": {
      "image/png": "[encoded data removed]",
      "text/plain": [
       "<Figure size 432x288 with 2 Axes>"
      ]
     },
     "metadata": {
      "needs_background": "light"
     },
     "output_type": "display_data"
    },
    {
     "data": {
      "text/plain": [
       "<Figure size 432x288 with 0 Axes>"
      ]
     },
     "metadata": {},
     "output_type": "display_data"
    }
   ],
   "source": [
    "def fmt(x, pos):\n",
    "    a, b = '{:.2e}'.format(x).split('e')\n",
    "    b = int(b)\n",
    "    return r'${} \\times 10^{{{}}}$'.format(a, b)\n",
    "\n",
    "#general features\n",
    "save = True\n",
    "extension = 'jpg'\n",
    "leg_loc = 'upper left'\n",
    "\n",
    "# data names and titles\n",
    "path_data = path+'chi2_fit_3p2.dat'\n",
    "plot_path = path +f'plots/fit_3p2_general_m4_{m4}_e_e-4_lifetimes.' + extension\n",
    "data = pd.read_csv(path_data,sep='\\t')\n",
    "\n",
    "data = data[data.chi2 >= 0]\n",
    "\n",
    "plot_title = r'Best-fit regions for MiniBooNE $E_\\nu^{\\mathrm{CCQE}}$'\n",
    "ylabel = r'$m_5 \\ / $ GeV'\n",
    "xlabel = r'$m_{Z \\prime} \\ / $ GeV'\n",
    "    \n",
    "# load data for each parameter\n",
    "Y = data['m5'].values\n",
    "X = data['mzprime'].values\n",
    "\n",
    "# line divisions for other possible channels\n",
    "Y_1 = np.ones(len(Y))\n",
    "Y_2 = 2 * Y_1\n",
    "X_0 = np.linspace(X.min(),X.max(),500)\n",
    "Y_1 = np.ones(len(X_0))\n",
    "Y_2 = 2 * Y_1\n",
    "\n",
    "# What to plot\n",
    "Z = data['decay_length'].values\n",
    "dec = data['decay_length'].values / data['m5'].values\n",
    "\n",
    "# Minimum\n",
    "marker = '*'\n",
    "mask = Z == Z.min()\n",
    "xmin_enu, ymin_enu = X[mask][0],Y[mask][0]\n",
    "\n",
    "# Plot\n",
    "plt.rcParams[\"figure.figsize\"] = (6,4)\n",
    "levels = 10\n",
    "level_dif = [1.25]\n",
    "t = plt.tricontourf(X,Y,Z,levels=levels,locator=ticker.LogLocator(),cmap='viridis')\n",
    "plt.tricontour(X,Y,Z,levels=levels,locator=ticker.LogLocator(),colors='black',linewidths=0.5)\n",
    "cbar = plt.colorbar(t, format=ticker.FuncFormatter(fmt))\n",
    "cbar.set_label(r'$c\\tau_0$',size=15)\n",
    "\n",
    "\n",
    "# Plot ctau = 1 cm/GeV\n",
    "cs = plt.tricontour(X,Y,dec,levels=[3.],colors='black',linewidths=1.5,linestyles='dashed')\n",
    "a = cs.collections[0].get_paths()[0]\n",
    "xline, yline = a.vertices.T\n",
    "plt.fill_between(xline,0.8*yline,yline,color=\"black\",alpha=0.5)\n",
    "\n",
    "# Regime channels\n",
    "#plt.text(0.6,1.1,r'$N_5 \\rightarrow N_4 N_4 \\nu_i$',color='black',size=11)\n",
    "#plt.text(0.6,2.2,r'$N_5 \\rightarrow N_4 N_4 N_4$',color='black',size=11)\n",
    "\n",
    "# Plot minimum and regimes\n",
    "plt.plot(xmin_enu,ymin_enu,color='orange',marker=marker,markersize=12)\n",
    "#plt.plot(X_0,Y_1,color=\"gray\",linewidth=1,linestyle=\"dotted\")\n",
    "#plt.plot(X_0,Y_2,color=\"gray\",linewidth=1,linestyle=\"dotted\")\n",
    "#plt.fill_between(X_0,1,2,color=\"gray\",alpha=0.2)\n",
    "#plt.fill_between(X_0,2,Y.max(),color=\"gray\",alpha=0.4)\n",
    "plt.text(0.11,1.55,r'$--c \\tau_0 / m_5 = 3 \\mathrm{cm / GeV}$',color='black',size=12)\n",
    "\n",
    "\n",
    "plt.legend(handles=[bar_1, bar_2, bar_3],fontsize=10,loc=leg_loc)\n",
    "plt.title(plot_title,fontsize=15)\n",
    "plt.xlabel(xlabel,fontsize=15)\n",
    "plt.ylabel(ylabel,fontsize=15)\n",
    "plt.xscale('log')\n",
    "plt.yscale('log')\n",
    "plt.xlim(X.min(),X.max())\n",
    "plt.ylim(Y.min(),Y.max())\n",
    "if save:\n",
    "    plt.savefig(plot_path,dpi=400)\n",
    "    plt.show()\n",
    "else:\n",
    "    plt.show()\n",
    "plt.clf()"
   ]
  },
  {
   "cell_type": "code",
   "execution_count": 14,
   "id": "5cc5faf7-c8ab-4558-a8a1-edab82a1dbb9",
   "metadata": {},
   "outputs": [
    {
     "data": {
      "image/png": "[encoded data removed]",
      "text/plain": [
       "<Figure size 432x288 with 1 Axes>"
      ]
     },
     "metadata": {
      "needs_background": "light"
     },
     "output_type": "display_data"
    },
    {
     "data": {
      "text/plain": [
       "<Figure size 432x288 with 0 Axes>"
      ]
     },
     "metadata": {},
     "output_type": "display_data"
    }
   ],
   "source": [
    "def fmt(x, pos):\n",
    "    a, b = '{:.2e}'.format(x).split('e')\n",
    "    b = int(b)\n",
    "    return r'${} \\times 10^{{{}}}$'.format(a, b)\n",
    "\n",
    "#general features\n",
    "save = True\n",
    "extension = 'pdf'\n",
    "leg_loc = 'upper left'\n",
    "\n",
    "# data names and titles\n",
    "path_data = path+'chi2_fit_3p2.dat'\n",
    "plot_path = path +f'plots/fit_3p2_general_m4_{m4}_e_e-4_lifetimes_scatter.' + extension\n",
    "data = pd.read_csv(path_data,sep='\\t')\n",
    "\n",
    "data = data[data.chi2 >= 0]\n",
    "\n",
    "plot_title = r'Best-fit regions for MiniBooNE $E_\\nu^{\\mathrm{CCQE}}$'\n",
    "ylabel = r'$m_5 \\ / $ GeV'\n",
    "xlabel = r'$m_{Z \\prime} \\ / $ GeV'\n",
    "    \n",
    "# load data for each parameter\n",
    "Y = data['m5'].values\n",
    "X = data['mzprime'].values\n",
    "\n",
    "# line divisions for other possible channels\n",
    "Y_1 = np.ones(len(Y))\n",
    "Y_2 = 2 * Y_1\n",
    "X_0 = np.linspace(X.min(),X.max(),500)\n",
    "Y_1 = np.ones(len(X_0))\n",
    "Y_2 = 2 * Y_1\n",
    "\n",
    "# What to plot\n",
    "Z = data['decay_length'].values\n",
    "Z -= Z.min()\n",
    "dec = data['decay_length'].values / data['m5'].values\n",
    "\n",
    "# Minimum\n",
    "marker = '*'\n",
    "mask = Z == Z.min()\n",
    "xmin_enu, ymin_enu = X[mask][0],Y[mask][0]\n",
    "\n",
    "# Plot\n",
    "plt.rcParams[\"figure.figsize\"] = (6,4)\n",
    "levels = 10\n",
    "level_dif = [1.25]\n",
    "#t = plt.scatter(X,Y,c=np.log(Z))\n",
    "t = plt.scatter(X,Y)\n",
    "#cbar = plt.colorbar(t, format=ticker.FuncFormatter(fmt))\n",
    "#cbar.set_label(r'$c\\tau_0$',size=15)\n",
    "\n",
    "\n",
    "# Plot ctau = 1 cm/GeV\n",
    "cs = plt.tricontour(X,Y,dec,levels=[3.],colors='black',linewidths=1.5,linestyles='dashed')\n",
    "a = cs.collections[0].get_paths()[0]\n",
    "xline, yline = a.vertices.T\n",
    "plt.fill_between(xline,0.8*yline,yline,color=\"black\",alpha=0.5)\n",
    "\n",
    "# Regime channels\n",
    "#plt.text(0.6,1.1,r'$N_5 \\rightarrow N_4 N_4 \\nu_i$',color='black',size=11)\n",
    "#plt.text(0.6,2.2,r'$N_5 \\rightarrow N_4 N_4 N_4$',color='black',size=11)\n",
    "\n",
    "# Plot minimum and regimes\n",
    "plt.plot(xmin_enu,ymin_enu,color='orange',marker=marker,markersize=12)\n",
    "#plt.plot(X_0,Y_1,color=\"gray\",linewidth=1,linestyle=\"dotted\")\n",
    "#plt.plot(X_0,Y_2,color=\"gray\",linewidth=1,linestyle=\"dotted\")\n",
    "#plt.fill_between(X_0,1,2,color=\"gray\",alpha=0.2)\n",
    "#plt.fill_between(X_0,2,Y.max(),color=\"gray\",alpha=0.4)\n",
    "plt.text(0.26,1.55,r'$--c \\tau_0 / m_5 = 3 \\mathrm{cm / GeV}$',color='black',size=12)\n",
    "\n",
    "\n",
    "plt.legend(handles=[bar_1, bar_2, bar_3],fontsize=10,loc=leg_loc)\n",
    "plt.title(plot_title,fontsize=15)\n",
    "plt.xlabel(xlabel,fontsize=15)\n",
    "plt.ylabel(ylabel,fontsize=15)\n",
    "plt.xscale('log')\n",
    "plt.yscale('log')\n",
    "plt.xlim(X.min(),X.max())\n",
    "plt.ylim(Y.min(),Y.max())\n",
    "if save:\n",
    "    plt.savefig(plot_path,dpi=400)\n",
    "    plt.show()\n",
    "else:\n",
    "    plt.show()\n",
    "plt.clf()"
   ]
  },
  {
   "cell_type": "code",
   "execution_count": 18,
   "id": "e577aa13-3bde-481f-95c7-384e023a44d7",
   "metadata": {},
   "outputs": [
    {
     "data": {
      "text/plain": [
       "839"
      ]
     },
     "execution_count": 18,
     "metadata": {},
     "output_type": "execute_result"
    }
   ],
   "source": [
    "len(data)"
   ]
  },
  {
   "cell_type": "code",
   "execution_count": 19,
   "id": "94231444-f1ca-4814-947b-a16c032a8607",
   "metadata": {},
   "outputs": [
    {
     "data": {
      "text/plain": [
       "30"
      ]
     },
     "execution_count": 19,
     "metadata": {},
     "output_type": "execute_result"
    }
   ],
   "source": [
    "len(np.sort(data['m5'].unique()))"
   ]
  },
  {
   "cell_type": "code",
   "execution_count": null,
   "id": "c5f3a5af-4e2c-49b9-a654-91bc32570e47",
   "metadata": {},
   "outputs": [],
   "source": []
  }
 ],
 "metadata": {
  "kernelspec": {
   "display_name": "Python 3 (ipykernel)",
   "language": "python",
   "name": "python3"
  },
  "language_info": {
   "codemirror_mode": {
    "name": "ipython",
    "version": 3
   },
   "file_extension": ".py",
   "mimetype": "text/x-python",
   "name": "python",
   "nbconvert_exporter": "python",
   "pygments_lexer": "ipython3",
   "version": "3.10.5"
  }
 },
 "nbformat": 4,
 "nbformat_minor": 5
}
